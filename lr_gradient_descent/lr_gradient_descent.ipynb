{
 "cells": [
  {
   "cell_type": "markdown",
   "metadata": {},
   "source": [
    "# Introduction"
   ]
  },
  {
   "cell_type": "markdown",
   "metadata": {},
   "source": [
    "In this notebook, we will take a look how a linear regression problem can be solved by gradient descent algorithm as well as normal equation. We will use the data from Andrew Ng's Machine Learning course ([data source](https://www.coursera.org/learn/machine-learning/home/welcome)).  \n",
    "\n",
    "**Problem description**:  \n",
    "Suppose you are the CEO of a restaurant franchise and are considering different cities for opening a new outlet. The chain already has trucks in various cities and you have data for profits and populations from the cities. You would like to use this data to help you select which city to expand to next.  \n",
    "The file ex1data1.txt contains the dataset for our linear regression problem. The first column is the population of a city and the second column is the profit of a food truck in that city. A negative value for profit indicates a loss."
   ]
  },
  {
   "cell_type": "markdown",
   "metadata": {},
   "source": [
    "# 1. Understanding the data"
   ]
  },
  {
   "cell_type": "markdown",
   "metadata": {},
   "source": [
    "## Visualize the data"
   ]
  },
  {
   "cell_type": "code",
   "execution_count": 1,
   "metadata": {},
   "outputs": [],
   "source": [
    "import random\n",
    "import numpy as np\n",
    "import pandas as pd\n",
    "from tqdm import tqdm\n",
    "import matplotlib.pyplot as plt"
   ]
  },
  {
   "cell_type": "code",
   "execution_count": 2,
   "metadata": {},
   "outputs": [],
   "source": [
    "# we are under root directory \n",
    "data_df = pd.read_csv('dataset/ex1data1.txt',header=None, names=['population', 'profit'])"
   ]
  },
  {
   "cell_type": "code",
   "execution_count": 3,
   "metadata": {},
   "outputs": [
    {
     "name": "stdout",
     "output_type": "stream",
     "text": [
      "<class 'pandas.core.frame.DataFrame'>\n",
      "RangeIndex: 97 entries, 0 to 96\n",
      "Data columns (total 2 columns):\n",
      " #   Column      Non-Null Count  Dtype  \n",
      "---  ------      --------------  -----  \n",
      " 0   population  97 non-null     float64\n",
      " 1   profit      97 non-null     float64\n",
      "dtypes: float64(2)\n",
      "memory usage: 1.6 KB\n"
     ]
    }
   ],
   "source": [
    "data_df.info()"
   ]
  },
  {
   "cell_type": "code",
   "execution_count": 4,
   "metadata": {},
   "outputs": [
    {
     "data": {
      "text/html": [
       "<div>\n",
       "<style scoped>\n",
       "    .dataframe tbody tr th:only-of-type {\n",
       "        vertical-align: middle;\n",
       "    }\n",
       "\n",
       "    .dataframe tbody tr th {\n",
       "        vertical-align: top;\n",
       "    }\n",
       "\n",
       "    .dataframe thead th {\n",
       "        text-align: right;\n",
       "    }\n",
       "</style>\n",
       "<table border=\"1\" class=\"dataframe\">\n",
       "  <thead>\n",
       "    <tr style=\"text-align: right;\">\n",
       "      <th></th>\n",
       "      <th>population</th>\n",
       "      <th>profit</th>\n",
       "    </tr>\n",
       "  </thead>\n",
       "  <tbody>\n",
       "    <tr>\n",
       "      <th>0</th>\n",
       "      <td>6.1101</td>\n",
       "      <td>17.5920</td>\n",
       "    </tr>\n",
       "    <tr>\n",
       "      <th>1</th>\n",
       "      <td>5.5277</td>\n",
       "      <td>9.1302</td>\n",
       "    </tr>\n",
       "    <tr>\n",
       "      <th>2</th>\n",
       "      <td>8.5186</td>\n",
       "      <td>13.6620</td>\n",
       "    </tr>\n",
       "    <tr>\n",
       "      <th>3</th>\n",
       "      <td>7.0032</td>\n",
       "      <td>11.8540</td>\n",
       "    </tr>\n",
       "    <tr>\n",
       "      <th>4</th>\n",
       "      <td>5.8598</td>\n",
       "      <td>6.8233</td>\n",
       "    </tr>\n",
       "  </tbody>\n",
       "</table>\n",
       "</div>"
      ],
      "text/plain": [
       "   population   profit\n",
       "0      6.1101  17.5920\n",
       "1      5.5277   9.1302\n",
       "2      8.5186  13.6620\n",
       "3      7.0032  11.8540\n",
       "4      5.8598   6.8233"
      ]
     },
     "execution_count": 4,
     "metadata": {},
     "output_type": "execute_result"
    }
   ],
   "source": [
    "data_df.head()"
   ]
  },
  {
   "cell_type": "code",
   "execution_count": 5,
   "metadata": {},
   "outputs": [
    {
     "data": {
      "image/png": "[encoded data removed]",
      "text/plain": [
       "<Figure size 432x288 with 1 Axes>"
      ]
     },
     "metadata": {
      "needs_background": "light"
     },
     "output_type": "display_data"
    }
   ],
   "source": [
    "fig, ax = plt.subplots()\n",
    "plt.scatter(data_df['population'], data_df['profit'])\n",
    "plt.xlabel('Population of City in 10,000s')\n",
    "plt.ylabel('Profit in $10,000s')\n",
    "plt.show()"
   ]
  },
  {
   "cell_type": "markdown",
   "metadata": {},
   "source": [
    "## Problem formulation"
   ]
  },
  {
   "cell_type": "markdown",
   "metadata": {},
   "source": [
    "### Hypothesis\n",
    "\n",
    "Given that the profit of a store is roughly proportional to the population of a city, we will make a hypothesis as following.   \n",
    "\n",
    "$h(x) = \\theta_0 + \\theta_1 x$  \n",
    "\n",
    "where $x$ is population of city and $h(x)$ is profit of a score.  \n",
    "\n",
    "Our goal of the following sections to find $\\theta_0$ and $\\theta_1$ that best fit the data. \n"
   ]
  },
  {
   "cell_type": "markdown",
   "metadata": {},
   "source": [
    "### Cost function  \n",
    "By best fitting the data, we mean minimizing the difference between the hypothesis output $h_\\theta (x)$ and $y$. So goal is to \n",
    "\n",
    "$$\\underset{\\theta_0, \\theta_1} {\\text{min}}\\ J(\\theta_0, \\theta_1)$$ \n",
    "\n",
    "where the cost function $J$ is  \n",
    "\n",
    "$$ J(\\theta_0, \\theta_1) = \\frac{1}{2m}\\sum^{m}_{i=1}(h_{\\theta}(x^{(i)})-y^{(i)})^2 $$ \n",
    "\n",
    "here, $i$ is the index of data points. In our case, $i$ is from 1 to 97."
   ]
  },
  {
   "cell_type": "markdown",
   "metadata": {},
   "source": [
    "# 2. Solving with Normal Equation "
   ]
  },
  {
   "cell_type": "markdown",
   "metadata": {},
   "source": [
    "The simplest way to solve a linear regression porblem is using normal equation. The linear function of $y = \\theta_0 + \\theta_1 x$ can be written as following in the matrix representation: \n",
    " \n",
    "\n",
    "$y = \\theta X$  \n",
    "\n",
    "For this, the solution is \n",
    "\n",
    "$ \\theta = (X^TX)^{-1}X^Ty $\n",
    "\n",
    "Find the derivation and intuition from the readme file."
   ]
  },
  {
   "cell_type": "markdown",
   "metadata": {},
   "source": [
    "## Solve "
   ]
  },
  {
   "cell_type": "markdown",
   "metadata": {},
   "source": [
    "### defining and reshaping the data "
   ]
  },
  {
   "cell_type": "code",
   "execution_count": 6,
   "metadata": {},
   "outputs": [],
   "source": [
    "# define x and y \n",
    "x = data_df['population'].to_numpy() \n",
    "y = data_df['profit'].to_numpy()\n",
    "\n",
    "# pad x with 1 for intercept term -> design matrix X. \n",
    "X = np.array([[1, xx] for xx in x])\n",
    "\n",
    "# reshape y so it is in a vector from. array([1, 2, ..]) -> array([[1], [2], ..])\n",
    "y = y.reshape(-1, 1)"
   ]
  },
  {
   "cell_type": "code",
   "execution_count": 7,
   "metadata": {},
   "outputs": [
    {
     "data": {
      "text/plain": [
       "array([[1.    , 6.1101],\n",
       "       [1.    , 5.5277],\n",
       "       [1.    , 8.5186]])"
      ]
     },
     "execution_count": 7,
     "metadata": {},
     "output_type": "execute_result"
    }
   ],
   "source": [
    "X[:3]"
   ]
  },
  {
   "cell_type": "code",
   "execution_count": 8,
   "metadata": {},
   "outputs": [
    {
     "data": {
      "text/plain": [
       "array([[17.592 ],\n",
       "       [ 9.1302],\n",
       "       [13.662 ]])"
      ]
     },
     "execution_count": 8,
     "metadata": {},
     "output_type": "execute_result"
    }
   ],
   "source": [
    "y[:3]"
   ]
  },
  {
   "cell_type": "markdown",
   "metadata": {},
   "source": [
    "### Find the solution"
   ]
  },
  {
   "cell_type": "code",
   "execution_count": 9,
   "metadata": {},
   "outputs": [],
   "source": [
    "# define function to solve for X and y\n",
    "def solve_normal_equation(X, y):\n",
    "    XTX = np.transpose(X).dot(X)\n",
    "    theta = np.linalg.inv(XTX).dot(np.transpose(X)).dot(y)\n",
    "    return theta "
   ]
  },
  {
   "cell_type": "code",
   "execution_count": 10,
   "metadata": {
    "scrolled": false
   },
   "outputs": [
    {
     "name": "stdout",
     "output_type": "stream",
     "text": [
      "theta:\n",
      "[[-3.89578088]\n",
      " [ 1.19303364]]\n"
     ]
    }
   ],
   "source": [
    "theta_norm = solve_normal_equation(X, y)\n",
    "\n",
    "print(\"theta:\")\n",
    "print(theta_norm)"
   ]
  },
  {
   "cell_type": "markdown",
   "metadata": {},
   "source": [
    "# 3. Solving with Gradient Descent"
   ]
  },
  {
   "cell_type": "markdown",
   "metadata": {},
   "source": [
    "gradient descent is:\n",
    "$$\n",
    "Repeat \\ until\\ convergance \\ \\theta_j := \\theta_j - \\alpha \\frac {\\partial}{\\partial \\theta_j}J(\\theta)\n",
    "$$\n"
   ]
  },
  {
   "cell_type": "markdown",
   "metadata": {},
   "source": [
    "## Solve"
   ]
  },
  {
   "cell_type": "markdown",
   "metadata": {},
   "source": [
    "### Normalize features\n",
    "\n",
    "Gradient Descent is susceptible to the scale of data because variable with big scale will dominate the gradient descent process. However, it doesn't matter much for this problem so we will not scale the data."
   ]
  },
  {
   "cell_type": "code",
   "execution_count": 11,
   "metadata": {},
   "outputs": [],
   "source": [
    "# feature normalization\n",
    "x = data_df['population'].to_numpy()\n",
    "y = data_df['profit'].to_numpy()\n",
    "\n",
    "# x = (x - x.mean())/(x.max() - x.min())\n",
    "# y = (y - x.mean())/(y.max() - y.min())"
   ]
  },
  {
   "cell_type": "code",
   "execution_count": 12,
   "metadata": {},
   "outputs": [
    {
     "name": "stdout",
     "output_type": "stream",
     "text": [
      "scaled x:\n",
      "[6.1101 5.5277 8.5186]\n",
      "scaled y:\n",
      "[17.592   9.1302 13.662 ]\n"
     ]
    }
   ],
   "source": [
    "print(\"scaled x:\")\n",
    "print(x[:3])\n",
    "print(\"scaled y:\")\n",
    "print(y[:3])"
   ]
  },
  {
   "cell_type": "markdown",
   "metadata": {},
   "source": [
    "### Reshaping the data "
   ]
  },
  {
   "cell_type": "code",
   "execution_count": 13,
   "metadata": {},
   "outputs": [],
   "source": [
    "# pad x with 1 for intercept term -> design matrix X. \n",
    "X = np.array([[1, xx] for xx in x])\n",
    "\n",
    "# reshape y so it is in a vector from. array([1, 2, ..]) -> array([[1], [2], ..])\n",
    "y = y.reshape(-1, 1)"
   ]
  },
  {
   "cell_type": "code",
   "execution_count": 14,
   "metadata": {},
   "outputs": [
    {
     "name": "stdout",
     "output_type": "stream",
     "text": [
      "design matrix X:\n",
      "[[1.     6.1101]\n",
      " [1.     5.5277]\n",
      " [1.     8.5186]]\n",
      "y:\n",
      "[[17.592 ]\n",
      " [ 9.1302]\n",
      " [13.662 ]]\n"
     ]
    }
   ],
   "source": [
    "print(\"design matrix X:\")\n",
    "print(X[:3])\n",
    "print(\"y:\")\n",
    "print(y[:3])"
   ]
  },
  {
   "cell_type": "markdown",
   "metadata": {},
   "source": [
    "## implement "
   ]
  },
  {
   "cell_type": "code",
   "execution_count": 15,
   "metadata": {},
   "outputs": [
    {
     "name": "stderr",
     "output_type": "stream",
     "text": [
      " 59%|█████▉    | 1186/2000 [00:00<00:00, 10944.39it/s]"
     ]
    },
    {
     "name": "stdout",
     "output_type": "stream",
     "text": [
      "initial theta:\n",
      "[[0.99063247]\n",
      " [0.23156954]]\n",
      "\n",
      "delta J (9.979127920090036e-05) is smaller than epsilon (0.0001). Finishing the process at 1186.\n",
      "final theta:\n",
      "[[-3.35347127]\n",
      " [ 1.13855276]]\n"
     ]
    },
    {
     "name": "stderr",
     "output_type": "stream",
     "text": [
      "\n"
     ]
    }
   ],
   "source": [
    "def compute_cost_function(X, y, theta):\n",
    "    h = compute_hypothesis(X, theta)\n",
    "    j = ((h - y)**2).mean()/2\n",
    "    return j\n",
    "\n",
    "def compute_derivative(X, y, theta):\n",
    "    m = len(y)\n",
    "    # fundction to calculate partial derivative of J with respect to theta\n",
    "    delta_theta0 = 1/m * ((compute_hypothesis(X, theta)-y)*X[:, 0].reshape(-1, 1)).mean()\n",
    "    delta_theta1 = 1/m * ((compute_hypothesis(X, theta)-y)*X[:, 1].reshape(-1, 1)).mean()\n",
    "    return np.array([[delta_theta0], [delta_theta1]])\n",
    "\n",
    "def compute_hypothesis(X, theta):\n",
    "    # function to calculate h(x) given x and theta\n",
    "    h = np.matmul(X, theta)\n",
    "    return h\n",
    "\n",
    "def initialize_theta(n):\n",
    "    theta = np.array([random.random() for r in range(n)]).reshape(-1, 1)\n",
    "    return theta\n",
    "\n",
    "def gradient_descent(X, y, learning_rate, iterations, epsilon): \n",
    "    \n",
    "    # initialize params \n",
    "    \n",
    "    theta = initialize_theta(2)\n",
    "    print('initial theta:')\n",
    "    print(theta)\n",
    "    print()\n",
    "\n",
    "    j_list = []\n",
    "    for i in tqdm(range(iterations)): \n",
    "        # update theta \n",
    "        delta = compute_derivative(X, y, theta)\n",
    "        theta -= learning_rate * delta\n",
    "\n",
    "        # check J \n",
    "        j = compute_cost_function(X, y, theta)\n",
    "        j_list.append(j)\n",
    "        \n",
    "        \n",
    "        if i >= 2:\n",
    "            j_diff = j_list[-2] - j_list[-1]\n",
    "            if j_diff < epsilon:\n",
    "                print(f\"delta J ({j_diff}) is smaller than epsilon ({epsilon}). Finishing the process at {i}.\")\n",
    "                return theta, j_list\n",
    "            \n",
    "    return theta, j_list\n",
    "     \n",
    "theta_grad, j_list = gradient_descent(X, y, learning_rate = 1, iterations=2000, epsilon=0.0001)\n",
    "print(\"final theta:\")\n",
    "print(theta_grad)"
   ]
  },
  {
   "cell_type": "code",
   "execution_count": 16,
   "metadata": {
    "scrolled": true
   },
   "outputs": [
    {
     "data": {
      "image/png": "[encoded data removed]",
      "text/plain": [
       "<Figure size 432x288 with 1 Axes>"
      ]
     },
     "metadata": {
      "needs_background": "light"
     },
     "output_type": "display_data"
    }
   ],
   "source": [
    "plt.plot(j_list, 'o-')\n",
    "plt.xlabel(\"iteration\")\n",
    "plt.ylabel(\"cost function J\")\n",
    "plt.show()"
   ]
  },
  {
   "cell_type": "markdown",
   "metadata": {},
   "source": [
    "# 4. Compare "
   ]
  },
  {
   "cell_type": "code",
   "execution_count": 17,
   "metadata": {},
   "outputs": [
    {
     "name": "stdout",
     "output_type": "stream",
     "text": [
      "theta from normal equation: \n",
      "[[-3.89578088]\n",
      " [ 1.19303364]]\n",
      "theta from gradient descent: \n",
      "[[-3.35347127]\n",
      " [ 1.13855276]]\n"
     ]
    }
   ],
   "source": [
    "print(\"theta from normal equation: \")\n",
    "print(theta_norm)\n",
    "\n",
    "print(\"theta from gradient descent: \")\n",
    "print(theta_grad)"
   ]
  },
  {
   "cell_type": "code",
   "execution_count": null,
   "metadata": {},
   "outputs": [],
   "source": []
  }
 ],
 "metadata": {
  "kernelspec": {
   "display_name": "ml-basics",
   "language": "python",
   "name": "ml-basics"
  },
  "language_info": {
   "codemirror_mode": {
    "name": "ipython",
    "version": 3
   },
   "file_extension": ".py",
   "mimetype": "text/x-python",
   "name": "python",
   "nbconvert_exporter": "python",
   "pygments_lexer": "ipython3",
   "version": "3.7.3"
  }
 },
 "nbformat": 4,
 "nbformat_minor": 2
}
