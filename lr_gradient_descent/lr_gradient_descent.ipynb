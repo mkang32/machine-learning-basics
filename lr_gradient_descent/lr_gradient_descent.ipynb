{
 "cells": [
  {
   "cell_type": "code",
   "execution_count": 4,
   "metadata": {},
   "outputs": [],
   "source": [
    "import random\n",
    "import numpy as np\n",
    "import pandas as pd\n",
    "import matplotlib.pyplot as plt"
   ]
  },
  {
   "cell_type": "markdown",
   "metadata": {},
   "source": [
    "data source: https://www.coursera.org/learn/machine-learning/home/welcome"
   ]
  },
  {
   "cell_type": "markdown",
   "metadata": {},
   "source": [
    "# Load data "
   ]
  },
  {
   "cell_type": "code",
   "execution_count": 17,
   "metadata": {},
   "outputs": [],
   "source": [
    "# we are under root directory \n",
    "data_df = pd.read_csv('lr_gradient_descent/dataset/ex1data1.txt',header=None, names=['population', 'profit'])"
   ]
  },
  {
   "cell_type": "code",
   "execution_count": 18,
   "metadata": {
    "scrolled": false
   },
   "outputs": [
    {
     "data": {
      "text/html": [
       "<div>\n",
       "<style scoped>\n",
       "    .dataframe tbody tr th:only-of-type {\n",
       "        vertical-align: middle;\n",
       "    }\n",
       "\n",
       "    .dataframe tbody tr th {\n",
       "        vertical-align: top;\n",
       "    }\n",
       "\n",
       "    .dataframe thead th {\n",
       "        text-align: right;\n",
       "    }\n",
       "</style>\n",
       "<table border=\"1\" class=\"dataframe\">\n",
       "  <thead>\n",
       "    <tr style=\"text-align: right;\">\n",
       "      <th></th>\n",
       "      <th>population</th>\n",
       "      <th>profit</th>\n",
       "    </tr>\n",
       "  </thead>\n",
       "  <tbody>\n",
       "    <tr>\n",
       "      <th>0</th>\n",
       "      <td>6.1101</td>\n",
       "      <td>17.59200</td>\n",
       "    </tr>\n",
       "    <tr>\n",
       "      <th>1</th>\n",
       "      <td>5.5277</td>\n",
       "      <td>9.13020</td>\n",
       "    </tr>\n",
       "    <tr>\n",
       "      <th>2</th>\n",
       "      <td>8.5186</td>\n",
       "      <td>13.66200</td>\n",
       "    </tr>\n",
       "    <tr>\n",
       "      <th>3</th>\n",
       "      <td>7.0032</td>\n",
       "      <td>11.85400</td>\n",
       "    </tr>\n",
       "    <tr>\n",
       "      <th>4</th>\n",
       "      <td>5.8598</td>\n",
       "      <td>6.82330</td>\n",
       "    </tr>\n",
       "    <tr>\n",
       "      <th>...</th>\n",
       "      <td>...</td>\n",
       "      <td>...</td>\n",
       "    </tr>\n",
       "    <tr>\n",
       "      <th>92</th>\n",
       "      <td>5.8707</td>\n",
       "      <td>7.20290</td>\n",
       "    </tr>\n",
       "    <tr>\n",
       "      <th>93</th>\n",
       "      <td>5.3054</td>\n",
       "      <td>1.98690</td>\n",
       "    </tr>\n",
       "    <tr>\n",
       "      <th>94</th>\n",
       "      <td>8.2934</td>\n",
       "      <td>0.14454</td>\n",
       "    </tr>\n",
       "    <tr>\n",
       "      <th>95</th>\n",
       "      <td>13.3940</td>\n",
       "      <td>9.05510</td>\n",
       "    </tr>\n",
       "    <tr>\n",
       "      <th>96</th>\n",
       "      <td>5.4369</td>\n",
       "      <td>0.61705</td>\n",
       "    </tr>\n",
       "  </tbody>\n",
       "</table>\n",
       "<p>97 rows × 2 columns</p>\n",
       "</div>"
      ],
      "text/plain": [
       "    population    profit\n",
       "0       6.1101  17.59200\n",
       "1       5.5277   9.13020\n",
       "2       8.5186  13.66200\n",
       "3       7.0032  11.85400\n",
       "4       5.8598   6.82330\n",
       "..         ...       ...\n",
       "92      5.8707   7.20290\n",
       "93      5.3054   1.98690\n",
       "94      8.2934   0.14454\n",
       "95     13.3940   9.05510\n",
       "96      5.4369   0.61705\n",
       "\n",
       "[97 rows x 2 columns]"
      ]
     },
     "execution_count": 18,
     "metadata": {},
     "output_type": "execute_result"
    }
   ],
   "source": [
    "data_df"
   ]
  },
  {
   "cell_type": "code",
   "execution_count": 23,
   "metadata": {},
   "outputs": [
    {
     "data": {
      "image/png": "[encoded data removed]",
      "text/plain": [
       "<Figure size 432x288 with 1 Axes>"
      ]
     },
     "metadata": {
      "needs_background": "light"
     },
     "output_type": "display_data"
    }
   ],
   "source": [
    "plt.scatter(data_df['population'], data_df['profit'])\n",
    "plt.xlabel('Population of City in 10,000s')\n",
    "plt.ylabel('Profit in $10,000s')\n",
    "plt.show()"
   ]
  },
  {
   "cell_type": "markdown",
   "metadata": {},
   "source": [
    "## Normalize features"
   ]
  },
  {
   "cell_type": "code",
   "execution_count": 28,
   "metadata": {},
   "outputs": [],
   "source": [
    "# feature normalization\n",
    "x = data_df['population'].to_numpy()\n",
    "y = data_df['profit'].to_numpy()\n",
    "\n",
    "x = (x - x.mean())/(x.max() - x.min())\n",
    "y = (y - x.mean())/(y.max() - y.min())"
   ]
  },
  {
   "cell_type": "code",
   "execution_count": 29,
   "metadata": {},
   "outputs": [
    {
     "name": "stdout",
     "output_type": "stream",
     "text": [
      "(97,) (97,)\n"
     ]
    }
   ],
   "source": [
    "# shape of x and y\n",
    "print(x.shape, y.shape)"
   ]
  },
  {
   "cell_type": "code",
   "execution_count": 30,
   "metadata": {
    "scrolled": true
   },
   "outputs": [
    {
     "data": {
      "image/png": "[encoded data removed]",
      "text/plain": [
       "<Figure size 432x288 with 1 Axes>"
      ]
     },
     "metadata": {
      "needs_background": "light"
     },
     "output_type": "display_data"
    }
   ],
   "source": [
    "plt.scatter(x, y)\n",
    "plt.show()"
   ]
  },
  {
   "cell_type": "markdown",
   "metadata": {},
   "source": [
    "# Gradient Descent"
   ]
  },
  {
   "cell_type": "markdown",
   "metadata": {},
   "source": [
    "We will use a linear model with one variable to fit the data: \n",
    "\n",
    "$y = \\theta_0 + \\theta_1x_1$\n",
    "\n",
    "where $x_1$ is Population of City and $y$ is Profit. "
   ]
  },
  {
   "cell_type": "markdown",
   "metadata": {},
   "source": [
    "### Design matrix"
   ]
  },
  {
   "cell_type": "markdown",
   "metadata": {},
   "source": [
    "Adding extra 1 to x vector so it becomes m x 2 matrix"
   ]
  },
  {
   "cell_type": "code",
   "execution_count": 51,
   "metadata": {},
   "outputs": [],
   "source": [
    "X = np.array([[1, xx] for xx in x])"
   ]
  },
  {
   "cell_type": "code",
   "execution_count": 53,
   "metadata": {},
   "outputs": [
    {
     "data": {
      "text/plain": [
       "array([[ 1.        , -0.11933442],\n",
       "       [ 1.        , -0.153242  ],\n",
       "       [ 1.        ,  0.02088949]])"
      ]
     },
     "execution_count": 53,
     "metadata": {},
     "output_type": "execute_result"
    }
   ],
   "source": [
    "X[:3]"
   ]
  },
  {
   "cell_type": "code",
   "execution_count": 52,
   "metadata": {
    "scrolled": true
   },
   "outputs": [
    {
     "data": {
      "text/plain": [
       "(97, 2)"
      ]
     },
     "execution_count": 52,
     "metadata": {},
     "output_type": "execute_result"
    }
   ],
   "source": [
    "X.shape"
   ]
  },
  {
   "cell_type": "code",
   "execution_count": 61,
   "metadata": {},
   "outputs": [
    {
     "data": {
      "text/plain": [
       "3"
      ]
     },
     "execution_count": 61,
     "metadata": {},
     "output_type": "execute_result"
    }
   ],
   "source": [
    "sum(np.array([1, 2]))"
   ]
  },
  {
   "cell_type": "code",
   "execution_count": 73,
   "metadata": {},
   "outputs": [],
   "source": [
    "# reshape y \n",
    "y = y.reshape(-1, 1)"
   ]
  },
  {
   "cell_type": "code",
   "execution_count": 74,
   "metadata": {},
   "outputs": [
    {
     "data": {
      "text/plain": [
       "(97, 1)"
      ]
     },
     "execution_count": 74,
     "metadata": {},
     "output_type": "execute_result"
    }
   ],
   "source": [
    "y.shape"
   ]
  },
  {
   "cell_type": "markdown",
   "metadata": {},
   "source": [
    "## implement "
   ]
  },
  {
   "cell_type": "code",
   "execution_count": 135,
   "metadata": {},
   "outputs": [
    {
     "name": "stdout",
     "output_type": "stream",
     "text": [
      "initial theta:\n",
      "[[0.798591 ]\n",
      " [0.3371763]]\n",
      "\n",
      "iteration: 0\n",
      "delta:\n",
      "[[ 0.00598905]\n",
      " [-0.00022098]]\n",
      "theta:\n",
      "[[0.7979921]\n",
      " [0.3371984]]\n",
      "\n",
      "cost function J: 0.17918905717233014\n",
      "iteration: 1\n",
      "delta:\n",
      "[[ 0.00598288]\n",
      " [-0.00022096]]\n",
      "theta:\n",
      "[[0.79739381]\n",
      " [0.33722049]]\n",
      "\n",
      "cost function J: 0.17884155304694477\n",
      "iteration: 2\n",
      "delta:\n",
      "[[ 0.00597671]\n",
      " [-0.00022095]]\n",
      "theta:\n",
      "[[0.79679614]\n",
      " [0.33724259]]\n",
      "\n",
      "cost function J: 0.17849476412865933\n",
      "iteration: 3\n",
      "delta:\n",
      "[[ 0.00597055]\n",
      " [-0.00022094]]\n",
      "theta:\n",
      "[[0.79619908]\n",
      " [0.33726468]]\n",
      "\n",
      "cost function J: 0.1781486889436761\n",
      "iteration: 4\n",
      "delta:\n",
      "[[ 0.00596439]\n",
      " [-0.00022093]]\n",
      "theta:\n",
      "[[0.79560264]\n",
      " [0.33728678]]\n",
      "\n",
      "cost function J: 0.17780332602123455\n",
      "iteration: 5\n",
      "delta:\n",
      "[[ 0.00595824]\n",
      " [-0.00022092]]\n",
      "theta:\n",
      "[[0.79500682]\n",
      " [0.33730887]]\n",
      "\n",
      "cost function J: 0.17745867389360523\n",
      "iteration: 6\n",
      "delta:\n",
      "[[ 0.0059521 ]\n",
      " [-0.00022091]]\n",
      "theta:\n",
      "[[0.79441161]\n",
      " [0.33733096]]\n",
      "\n",
      "cost function J: 0.17711473109608325\n",
      "iteration: 7\n",
      "delta:\n",
      "[[ 0.00594596]\n",
      " [-0.0002209 ]]\n",
      "theta:\n",
      "[[0.79381701]\n",
      " [0.33735305]]\n",
      "\n",
      "cost function J: 0.17677149616698207\n",
      "iteration: 8\n",
      "delta:\n",
      "[[ 0.00593983]\n",
      " [-0.00022088]]\n",
      "theta:\n",
      "[[0.79322303]\n",
      " [0.33737514]]\n",
      "\n",
      "cost function J: 0.17642896764762742\n",
      "iteration: 9\n",
      "delta:\n",
      "[[ 0.00593371]\n",
      " [-0.00022087]]\n",
      "theta:\n",
      "[[0.79262966]\n",
      " [0.33739722]]\n",
      "\n",
      "cost function J: 0.17608714408235127\n"
     ]
    }
   ],
   "source": [
    "def compute_cost_function(X, y, theta):\n",
    "    h = compute_hypothesis(X, theta)\n",
    "    j = ((h - y)**2).mean()/2\n",
    "    return j\n",
    "\n",
    "def compute_derivative(X, y, theta):\n",
    "    # fundction to calculate partial derivative of J with respect to theta\n",
    "    delta_theta0 = 1/m * ((compute_hypothesis(X, theta)-y)*X[:, 0].reshape(-1, 1)).mean()\n",
    "    delta_theta1 = 1/m * ((compute_hypothesis(X, theta)-y)*X[:, 1].reshape(-1, 1)).mean()\n",
    "    return np.array([[delta_theta0], [delta_theta1]])\n",
    "\n",
    "def compute_hypothesis(X, theta):\n",
    "    # function to calculate h(x) given x and theta\n",
    "    h = np.matmul(X, theta)\n",
    "    return h\n",
    "\n",
    "# initialize params \n",
    "learning_rate = 0.1\n",
    "theta = np.array([random.random() for r in range(2)]).reshape(-1, 1)\n",
    "print('initial theta:')\n",
    "print(theta)\n",
    "print()\n",
    "\n",
    "j_list = []\n",
    "for i in range(10): \n",
    "    # compute \n",
    "    print(f\"iteration: {i}\")\n",
    "    \n",
    "    # update theta \n",
    "    delta = compute_derivative(X, y, theta)\n",
    "    print('delta:')\n",
    "    print(delta)\n",
    "    theta -= learning_rate * delta\n",
    "    print(\"theta:\")\n",
    "    print(theta)\n",
    "    print()\n",
    "    \n",
    "    # check J \n",
    "    j = compute_cost_function(X, y, theta)\n",
    "    j_list.append(j)\n",
    "    print(\"cost function J:\", j)"
   ]
  },
  {
   "cell_type": "code",
   "execution_count": 136,
   "metadata": {
    "scrolled": true
   },
   "outputs": [
    {
     "data": {
      "image/png": "[encoded data removed]",
      "text/plain": [
       "<Figure size 432x288 with 1 Axes>"
      ]
     },
     "metadata": {
      "needs_background": "light"
     },
     "output_type": "display_data"
    }
   ],
   "source": [
    "plt.plot(j_list, 'o-')\n",
    "plt.show()"
   ]
  },
  {
   "cell_type": "code",
   "execution_count": null,
   "metadata": {},
   "outputs": [],
   "source": []
  }
 ],
 "metadata": {
  "kernelspec": {
   "display_name": "ml-basics",
   "language": "python",
   "name": "ml-basics"
  },
  "language_info": {
   "codemirror_mode": {
    "name": "ipython",
    "version": 3
   },
   "file_extension": ".py",
   "mimetype": "text/x-python",
   "name": "python",
   "nbconvert_exporter": "python",
   "pygments_lexer": "ipython3",
   "version": "3.7.3"
  }
 },
 "nbformat": 4,
 "nbformat_minor": 2
}
