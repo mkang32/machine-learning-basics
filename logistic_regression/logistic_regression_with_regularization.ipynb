{
 "cells": [
  {
   "cell_type": "code",
   "execution_count": 1,
   "metadata": {},
   "outputs": [],
   "source": [
    "import numpy as np\n",
    "import pandas as pd\n",
    "import matplotlib.pyplot as plt\n",
    "import seaborn as sns"
   ]
  },
  {
   "cell_type": "markdown",
   "metadata": {},
   "source": [
    "# Example 2"
   ]
  },
  {
   "cell_type": "code",
   "execution_count": 2,
   "metadata": {},
   "outputs": [],
   "source": [
    "df = pd.read_csv('dataset/ex2data2.txt', header=None, names=['score1', 'score2', 'y'])"
   ]
  },
  {
   "cell_type": "code",
   "execution_count": 3,
   "metadata": {},
   "outputs": [
    {
     "data": {
      "image/png": "[encoded data removed]",
      "text/plain": [
       "<Figure size 432x288 with 1 Axes>"
      ]
     },
     "metadata": {
      "needs_background": "light"
     },
     "output_type": "display_data"
    }
   ],
   "source": [
    "plt.plot(df[df['y']==0]['score1'], df[df['y']==0]['score2'], 'or')\n",
    "plt.plot(df[df['y']==1]['score1'], df[df['y']==1]['score2'], 'ob')\n",
    "plt.xlabel('exam score 1')\n",
    "plt.ylabel('exam score 2')\n",
    "plt.legend(['admitted', 'not admitted'])\n",
    "plt.show()"
   ]
  },
  {
   "cell_type": "markdown",
   "metadata": {},
   "source": [
    "## Feautre mapping "
   ]
  },
  {
   "cell_type": "markdown",
   "metadata": {},
   "source": [
    "We will use a 28-dimensional vector that is transformed from two features ($x_1$=exam score 1, $x_2$= exam score 2). The transformed new vector is represented as below. \n",
    "\n",
    "$$\n",
    "X = \\text{mapFeature}(x) = \n",
    "\\begin{equation*}\n",
    "\\begin{bmatrix}\n",
    "1 \\\\\n",
    "x_1 \\\\\n",
    "x_2 \\\\\n",
    "x_1^2 \\\\\n",
    "x_1x_2 \\\\\n",
    "x_2^2 \\\\\n",
    "x_1^3 \\\\\n",
    "\\vdots \\\\\n",
    "x_1x_2^5 \\\\ \n",
    "x_2^6 \n",
    "\\end{bmatrix}\n",
    "\\end{equation*}\n",
    "$$\n",
    "\n",
    "This will give us a flexibility of the hypothesis."
   ]
  },
  {
   "cell_type": "code",
   "execution_count": 4,
   "metadata": {},
   "outputs": [],
   "source": [
    "def map_feature(x1, x2):\n",
    "    num_data = len(x1)\n",
    "    degree = 6 \n",
    "    num_features = 28\n",
    "\n",
    "    count = 1\n",
    "    output = np.ones((num_data, num_features))\n",
    "    for d in range(1, degree+1): \n",
    "        for i in range(d+1):\n",
    "            val = x1**i * x2**(d-i)\n",
    "            output[:, count] = val\n",
    "            count+= 1\n",
    "    return output "
   ]
  },
  {
   "cell_type": "code",
   "execution_count": 5,
   "metadata": {},
   "outputs": [],
   "source": [
    "x1 = df['score1']\n",
    "x2 = df['score2']\n",
    "y = df['y'].to_numpy().reshape(-1, 1)"
   ]
  },
  {
   "cell_type": "code",
   "execution_count": 6,
   "metadata": {},
   "outputs": [],
   "source": [
    "X = map_feature(x1, x2)"
   ]
  },
  {
   "cell_type": "code",
   "execution_count": 7,
   "metadata": {},
   "outputs": [
    {
     "data": {
      "text/plain": [
       "array([[ 1.00000000e+00,  6.99560000e-01,  5.12670000e-02, ...,\n",
       "         3.38066048e-06,  2.47750473e-07,  1.81563032e-08],\n",
       "       [ 1.00000000e+00,  6.84940000e-01, -9.27420000e-02, ...,\n",
       "         3.47065055e-05, -4.69931780e-06,  6.36295342e-07],\n",
       "       [ 1.00000000e+00,  6.92250000e-01, -2.13710000e-01, ...,\n",
       "         9.99597833e-04, -3.08593793e-04,  9.52684426e-05],\n",
       "       ...,\n",
       "       [ 1.00000000e+00,  9.99270000e-01, -4.84450000e-01, ...,\n",
       "         5.49998544e-02, -2.66641443e-02,  1.29268813e-02],\n",
       "       [ 1.00000000e+00,  9.99270000e-01, -6.33640000e-03, ...,\n",
       "         1.60966700e-09, -1.02069450e-11,  6.47225339e-14],\n",
       "       [ 1.00000000e+00, -3.06120000e-02,  6.32650000e-01, ...,\n",
       "         1.50119621e-04, -3.10248197e-03,  6.41181634e-02]])"
      ]
     },
     "execution_count": 7,
     "metadata": {},
     "output_type": "execute_result"
    }
   ],
   "source": [
    "X"
   ]
  },
  {
   "cell_type": "markdown",
   "metadata": {},
   "source": [
    "## Gradient descent with regularization"
   ]
  },
  {
   "cell_type": "markdown",
   "metadata": {},
   "source": [
    "\n",
    "The cost function of logistic regression is: \n",
    "$$ J(\\theta) = \\frac{1}{m}\\sum_{i=0}^{i=m}[-y^{(i)} \\log(h_\\theta(x^{(i)})) - (1-y^{(i)}) \\log(1-h_\\theta(x^{(i)}))] + \n",
    "\\frac{\\lambda}{2m}\\sum_{j=0}^{j=n}\\theta_j^2$$\n",
    "\n",
    "Also, gradient of the cost function is: \n",
    "$$ \\frac{\\partial J(\\theta)}{\\partial \\theta_j} = \\frac{1}{m}\\sum_{i=0}^{i=m}{(h_{\\theta} (x^{(i)}) - y^{(i)})x_j^{(i)}} \\ \\ \\text{for} \\ \\ j=0  $$\n",
    "\n",
    "$$ \\frac{\\partial J(\\theta)}{\\partial \\theta_j} = \\frac{1}{m}\\sum_{i=0}^{i=m}{(h_{\\theta} (x^{(i)}) - y^{(i)})x_j^{(i)}} + \\frac{\\lambda}{m}\\theta_j \\ \\ \\text{for} \\ \\ j \\ge 1 $$ \n",
    "\n",
    "When updating theta,\n",
    "$$\\theta_j := \\theta_j - \\alpha \\frac{\\partial J(\\theta)}{\\partial \\theta_j}$$\n"
   ]
  },
  {
   "cell_type": "code",
   "execution_count": 8,
   "metadata": {},
   "outputs": [],
   "source": [
    "def sigmoid(x):\n",
    "    return 1/(1+np.exp(-x))\n",
    "\n",
    "def compute_hypothesis(theta, X):\n",
    "    return sigmoid(X.dot(theta))\n",
    "\n",
    "def cost_function(theta, X, y):\n",
    "    h = compute_hypothesis(theta, X)\n",
    "    n = len(y)\n",
    "    cost = sum(-np.multiply(y, np.log(h)) - np.multiply(1-y, np.log(1-h)))/n\n",
    "    gradient = np.array([sum(np.multiply(h-y, X[:, j:j+1]))/n for j in range(len(theta))])\n",
    "    return cost, gradient\n",
    "    \n",
    "def gradient_descent(X, y, learning_rate, n_iter, epsilon):\n",
    "    # initialize theta \n",
    "    rows, cols = X.shape\n",
    "    theta = np.zeros((cols, 1))\n",
    "    \n",
    "    costs = []\n",
    "    for i in range(n_iter):\n",
    "        cost, gradient = cost_function(theta, X, y)\n",
    "        costs.append(cost)\n",
    "        if cost < epsilon: \n",
    "            return theta, costs\n",
    "        \n",
    "        # update theta \n",
    "        theta = theta - learning_rate * gradient\n",
    "    return theta, costs\n",
    "    "
   ]
  },
  {
   "cell_type": "code",
   "execution_count": 9,
   "metadata": {},
   "outputs": [],
   "source": [
    "theta, cost = gradient_descent(X, y, learning_rate=0.9, n_iter=1000, epsilon=0.0001)"
   ]
  },
  {
   "cell_type": "code",
   "execution_count": 10,
   "metadata": {},
   "outputs": [
    {
     "data": {
      "text/plain": [
       "[<matplotlib.lines.Line2D at 0x128392278>]"
      ]
     },
     "execution_count": 10,
     "metadata": {},
     "output_type": "execute_result"
    },
    {
     "data": {
      "image/png": "[encoded data removed]",
      "text/plain": [
       "<Figure size 432x288 with 1 Axes>"
      ]
     },
     "metadata": {
      "needs_background": "light"
     },
     "output_type": "display_data"
    }
   ],
   "source": [
    "plt.plot(np.arange(len(cost)), cost, 'o-')"
   ]
  },
  {
   "cell_type": "code",
   "execution_count": 11,
   "metadata": {
    "scrolled": true
   },
   "outputs": [
    {
     "data": {
      "text/plain": [
       "array([[ 3.17391883],\n",
       "       [ 3.48072558],\n",
       "       [ 2.25055973],\n",
       "       [-4.77406272],\n",
       "       [-3.95332787],\n",
       "       [-4.9485734 ],\n",
       "       [-0.30318391],\n",
       "       [-0.97995029],\n",
       "       [-1.46864587],\n",
       "       [ 0.97901249],\n",
       "       [-3.29484088],\n",
       "       [-1.47044259],\n",
       "       [-2.10677048],\n",
       "       [ 0.20971627],\n",
       "       [-4.00652368],\n",
       "       [-0.32391581],\n",
       "       [-1.42279814],\n",
       "       [-1.21796175],\n",
       "       [ 0.3479095 ],\n",
       "       [-0.70143208],\n",
       "       [-0.57608389],\n",
       "       [-1.73665677],\n",
       "       [-1.06291324],\n",
       "       [-1.24236153],\n",
       "       [ 0.2516955 ],\n",
       "       [-0.94182797],\n",
       "       [ 0.32568251],\n",
       "       [-3.14906141]])"
      ]
     },
     "execution_count": 11,
     "metadata": {},
     "output_type": "execute_result"
    }
   ],
   "source": [
    "theta"
   ]
  },
  {
   "cell_type": "markdown",
   "metadata": {},
   "source": [
    "## Visualize"
   ]
  },
  {
   "cell_type": "code",
   "execution_count": 12,
   "metadata": {},
   "outputs": [],
   "source": [
    "u = np.linspace(-1, 1.5, 50)\n",
    "v = np.linspace(-1, 1.5, 50)\n",
    "z = np.zeros((len(u), len(v)))"
   ]
  },
  {
   "cell_type": "code",
   "execution_count": 13,
   "metadata": {},
   "outputs": [],
   "source": [
    "for i in range(len(u)):\n",
    "    for j in range(len(v)):\n",
    "        z[i,j] = np.dot(map_feature(u[i:i+1], v[j:j+1]), theta)"
   ]
  },
  {
   "cell_type": "code",
   "execution_count": 14,
   "metadata": {},
   "outputs": [
    {
     "data": {
      "text/plain": [
       "array([[ -28.79058499,  -26.651193  ,  -24.77564238, ...,  -40.76341591,\n",
       "         -45.8301319 ,  -51.6268698 ],\n",
       "       [ -26.3396402 ,  -24.23963033,  -22.39881678, ...,  -37.39629022,\n",
       "         -42.39852376,  -48.13214021],\n",
       "       [ -24.21010211,  -22.14777331,  -20.34025047, ...,  -34.55500138,\n",
       "         -39.50817354,  -45.19496377],\n",
       "       ...,\n",
       "       [ -53.77007828,  -51.83634688,  -50.15647777, ..., -138.31643631,\n",
       "        -151.26562191, -165.76494866],\n",
       "       [ -63.079291  ,  -61.07720447,  -59.33528765, ..., -151.10880169,\n",
       "        -164.45585619, -179.38635888],\n",
       "       [ -73.90499445,  -71.82683521,  -70.01566332, ..., -165.49372907,\n",
       "        -179.25194642, -194.62769562]])"
      ]
     },
     "execution_count": 14,
     "metadata": {},
     "output_type": "execute_result"
    }
   ],
   "source": [
    "z"
   ]
  },
  {
   "cell_type": "code",
   "execution_count": 15,
   "metadata": {},
   "outputs": [
    {
     "data": {
      "image/png": "[encoded data removed]",
      "text/plain": [
       "<Figure size 432x288 with 1 Axes>"
      ]
     },
     "metadata": {
      "needs_background": "light"
     },
     "output_type": "display_data"
    }
   ],
   "source": [
    "plt.plot(df[df['y']==0]['score1'], df[df['y']==0]['score2'], 'or')\n",
    "plt.plot(df[df['y']==1]['score1'], df[df['y']==1]['score2'], 'ob')\n",
    "plt.contour(u, v, z, 0)\n",
    "plt.xlabel('exam score 1')\n",
    "plt.ylabel('exam score 2')\n",
    "plt.legend(['admitted', 'not admitted'])\n",
    "plt.show()"
   ]
  },
  {
   "cell_type": "code",
   "execution_count": null,
   "metadata": {},
   "outputs": [],
   "source": []
  }
 ],
 "metadata": {
  "kernelspec": {
   "display_name": "ml-basics",
   "language": "python",
   "name": "ml-basics"
  },
  "language_info": {
   "codemirror_mode": {
    "name": "ipython",
    "version": 3
   },
   "file_extension": ".py",
   "mimetype": "text/x-python",
   "name": "python",
   "nbconvert_exporter": "python",
   "pygments_lexer": "ipython3",
   "version": "3.7.3"
  }
 },
 "nbformat": 4,
 "nbformat_minor": 4
}
